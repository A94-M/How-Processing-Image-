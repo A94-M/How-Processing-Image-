{
 "cells": [
  {
   "cell_type": "code",
   "execution_count": 2,
   "id": "3a37eb3c-090b-49d1-b6bf-e334b89a5bf7",
   "metadata": {},
   "outputs": [],
   "source": [
    "import cv2\n",
    "import numpy as np"
   ]
  },
  {
   "cell_type": "code",
   "execution_count": 5,
   "id": "8f6f4da5-885b-4819-9ac5-d2ef7dc2a42e",
   "metadata": {},
   "outputs": [],
   "source": [
    "\n",
    "img=cv2.imread('ee.jpg')\n",
    "\n",
    "\n",
    "# //////////////////////////convert to gray scale \n",
    "# GRAY=cv2.cvtColor(img,cv2.COLOR_BGR2GRAY)\n",
    "# cv2.imshow('GRAY',GRAY)\n",
    "\n",
    "\n",
    "#////////////convert to RGB\n",
    "# RGB=cv2.cvtColor(img,cv2.COLOR_BGR2RGB)\n",
    "\n",
    "\n",
    "#////////////// resize IMG  source , wieght , hieght  \n",
    "# new_size=cv2.resize(img,(200,920))\n",
    "# cv2.imshow('new',new_size)\n",
    "\n",
    "\n",
    "#////////////////////////////// threshold for IMG dilation and erodetion\n",
    "# _,BIN=cv2.threshold(img,110,280,cv2.THRESH_BINARY_INV)\n",
    "# _,FD=cv2.threshold(img,210,280,0)\n",
    "# kernal=np.zeros((5,5),np.uint8)\n",
    "# dila=cv2.dilate(FD,kernal,iterations=3)\n",
    "# er=cv2.erode(FD,kernal,iterations=3)\n",
    "# cv2.imshow('thre',FD)\n",
    "# cv2.imshow('bin',BIN)\n",
    "\n",
    "\n",
    "\n",
    "#/////////////////// DRAW on img\n",
    "# cv2.rectangle(img,(290,260),(360,340),(0,244,0),2)\n",
    "# cv2.putText(img,'the Ball', (270,250),3,1,(0,0,255),2)\n",
    "\n",
    "# print(img.shape)\n",
    "# cv2.imshow('theBall',img)\n",
    "# cv2.imwrite('theBall',img)\n",
    "cv2.waitKey(0)\n",
    "cv2.destroyAllWindows()"
   ]
  },
  {
   "cell_type": "code",
   "execution_count": 61,
   "id": "9c200938-9c1d-4249-a75f-3856ef200bfc",
   "metadata": {},
   "outputs": [],
   "source": [
    "##\n",
    "img=cv2.imread('rr.jpg')\n",
    "new_img=cv2.resize(img,(540,550))\n",
    "\n",
    "# cv2.GaussianBlur(img,(13,13),0)\n",
    "# cv2.blur(img,(13,13))\n",
    "# cv2.medianBlur(img,1,0)\n",
    "# cv2.bilateralFilter(img,9,55,55)\n",
    "\n",
    "\n",
    "lab=cv2.Laplacian(new_img,40,ksize=3)\n",
    "\n",
    "cv2.imshow('theBall',lab)\n",
    "# cv2.imshow('theBall',img)\n",
    "cv2.waitKey(0)\n",
    "cv2.destroyAllWindows()"
   ]
  }
 ],
 "metadata": {
  "kernelspec": {
   "display_name": "Python 3 (ipykernel)",
   "language": "python",
   "name": "python3"
  },
  "language_info": {
   "codemirror_mode": {
    "name": "ipython",
    "version": 3
   },
   "file_extension": ".py",
   "mimetype": "text/x-python",
   "name": "python",
   "nbconvert_exporter": "python",
   "pygments_lexer": "ipython3",
   "version": "3.12.0"
  }
 },
 "nbformat": 4,
 "nbformat_minor": 5
}
